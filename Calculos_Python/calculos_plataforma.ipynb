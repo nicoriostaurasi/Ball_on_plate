{
 "cells": [
  {
   "cell_type": "code",
   "execution_count": 2,
   "id": "42fa536b",
   "metadata": {},
   "outputs": [],
   "source": [
    "import numpy as np"
   ]
  },
  {
   "cell_type": "code",
   "execution_count": 129,
   "id": "138160be",
   "metadata": {},
   "outputs": [],
   "source": [
    "class platform:\n",
    "    def __init__(self,d):\n",
    "        self.c1=d*np.array([0,-d,0])\n",
    "        self.c2=d*np.array([d*np.sin(np.pi/3),d*np.cos(np.pi/3),0])\n",
    "        self.c3=d*np.array([-d*np.sin(np.pi/3),d*np.cos(np.pi/3),0])\n",
    "\n",
    "    def x_y_rotation_matrix (self,r_x,r_y):\n",
    "        \"Esta función toma como parametros los angulos de rotacion en radianes respecto de los ejes x e y\"\n",
    "        \"y entrega como resultado una matriz tal que al pre multiplicar un vector por ella se rota al mismo en los\"\n",
    "        \"angulos deseado\"\n",
    "        M_x= np.array([[1,0,0],[0,np.cos(r_x),-np.sin(r_x)],[0,np.sin(r_x),np.cos(r_x)]]) \n",
    "        M_y= np.array([[np.cos(r_y),0,np.sin(r_y)],[0,1,0],[-np.sin(r_y),0,np.cos(r_y)]])\n",
    "        return M_x.dot(M_y)\n",
    "    def rotate(self,r_x,r_y):\n",
    "        Mxy=self.x_y_rotation_matrix (r_x,r_y)\n",
    "        self.c1=np.transpose(Mxy.dot(self.c1.transpose()))\n",
    "        self.c2=np.transpose(Mxy.dot(self.c2.transpose()))\n",
    "        self.c3=np.transpose(Mxy.dot(self.c3.transpose()))"
   ]
  },
  {
   "cell_type": "code",
   "execution_count": 130,
   "id": "1afb29a1",
   "metadata": {},
   "outputs": [],
   "source": [
    "platform=platform(d=1)"
   ]
  },
  {
   "cell_type": "code",
   "execution_count": 131,
   "id": "451b2f2c",
   "metadata": {},
   "outputs": [
    {
     "data": {
      "text/plain": [
       "array([ 0, -1,  0])"
      ]
     },
     "execution_count": 131,
     "metadata": {},
     "output_type": "execute_result"
    }
   ],
   "source": [
    "platform.c1"
   ]
  },
  {
   "cell_type": "code",
   "execution_count": 132,
   "id": "d080b9e6",
   "metadata": {},
   "outputs": [
    {
     "data": {
      "text/plain": [
       "array([0.8660254, 0.5      , 0.       ])"
      ]
     },
     "execution_count": 132,
     "metadata": {},
     "output_type": "execute_result"
    }
   ],
   "source": [
    "platform.c2"
   ]
  },
  {
   "cell_type": "code",
   "execution_count": 133,
   "id": "deef334e",
   "metadata": {},
   "outputs": [],
   "source": [
    "platform.rotate(np.pi*0.5,0)"
   ]
  },
  {
   "cell_type": "code",
   "execution_count": 134,
   "id": "6a271949",
   "metadata": {},
   "outputs": [
    {
     "data": {
      "text/plain": [
       "array([ 0.000000e+00, -6.123234e-17, -1.000000e+00])"
      ]
     },
     "execution_count": 134,
     "metadata": {},
     "output_type": "execute_result"
    }
   ],
   "source": [
    "platform.c1"
   ]
  },
  {
   "cell_type": "code",
   "execution_count": 135,
   "id": "4a21dfd2",
   "metadata": {},
   "outputs": [
    {
     "data": {
      "text/plain": [
       "array([8.66025404e-01, 3.06161700e-17, 5.00000000e-01])"
      ]
     },
     "execution_count": 135,
     "metadata": {},
     "output_type": "execute_result"
    }
   ],
   "source": [
    "platform.c2"
   ]
  },
  {
   "cell_type": "code",
   "execution_count": 136,
   "id": "33d26640",
   "metadata": {},
   "outputs": [
    {
     "data": {
      "text/plain": [
       "array([-8.66025404e-01,  3.06161700e-17,  5.00000000e-01])"
      ]
     },
     "execution_count": 136,
     "metadata": {},
     "output_type": "execute_result"
    }
   ],
   "source": [
    "platform.c3"
   ]
  },
  {
   "cell_type": "code",
   "execution_count": null,
   "id": "ad0b4e07",
   "metadata": {},
   "outputs": [],
   "source": []
  }
 ],
 "metadata": {
  "kernelspec": {
   "display_name": "Python 3",
   "language": "python",
   "name": "python3"
  },
  "language_info": {
   "codemirror_mode": {
    "name": "ipython",
    "version": 3
   },
   "file_extension": ".py",
   "mimetype": "text/x-python",
   "name": "python",
   "nbconvert_exporter": "python",
   "pygments_lexer": "ipython3",
   "version": "3.8.5"
  }
 },
 "nbformat": 4,
 "nbformat_minor": 5
}
