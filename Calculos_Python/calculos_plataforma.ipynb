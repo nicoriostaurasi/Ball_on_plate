{
 "cells": [
  {
   "cell_type": "code",
   "execution_count": null,
   "id": "42fa536b",
   "metadata": {},
   "outputs": [],
   "source": [
    "import numpy as np\n",
    "import cmath\n",
    "import pyperclip\n",
    "import movement_assignment\n",
    "import limbs\n",
    "import universal_joint_angles"
   ]
  },
  {
   "cell_type": "code",
   "execution_count": null,
   "id": "138160be",
   "metadata": {},
   "outputs": [],
   "source": [
    "class platform:\n",
    "    def __init__(self,d,D,l1,l2,max_limb_error,max_limb_try_count,max_joint_angle):\n",
    "        \"d: distancia de cada junta universal en la plataforma al centro\"\n",
    "        \n",
    "        \"D: distancia del eje de cada motor al centro de la base\"\n",
    "        \n",
    "        \"la altura del eje del motor es conciderada el plano z=0\"\n",
    "        \n",
    "        \"l1: long del antebrazo\"\n",
    "        \n",
    "        \"l2: long del brazo\"\n",
    "        \n",
    "        \"max_limb_error: máximo error (en las mismas unidades de l1 y l2) que es permitido para posicionar el brazo\"\n",
    "        \n",
    "        \"max_limb_try_count: máxima cantidad de iteraciones para calcular el ángulo de un motor, si la cantidad\"\n",
    "        \"Si la cantidad requerida de iteraciones es mayor, genera un error llamado 'Point unreachable' \"\n",
    "        \n",
    "        \"max_joint_angle:angulo máximo que puede tener la junta universal, una posición que lo exceda genera un error\"\n",
    "        \"llamado 'Joint angle exceeded'\"\n",
    "        \n",
    "        self.c1=np.array([0,-d,0])\n",
    "        self.c2=np.array([-d*np.sin(np.pi/3),d*np.cos(np.pi/3),0])\n",
    "        self.c3=np.array([d*np.sin(np.pi/3),d*np.cos(np.pi/3),0])\n",
    "        \n",
    "        self.d=d\n",
    "        self.D=D\n",
    "\n",
    "        self.l1=l1\n",
    "        self.l2=l2\n",
    "        \n",
    "        self.max_limb_error=max_limb_error\n",
    "        self.max_limb_try_count=max_limb_try_count\n",
    "        \n",
    "        #defino los angulos de los motores\n",
    "        self.ang1=0\n",
    "        self.ang2=0\n",
    "        self.ang3=0\n",
    "        #defino los angulos máximos que se les permite rotar a los motores\n",
    "        self.angle_max=90\n",
    "        self.angle_min=-90\n",
    "        #defino el ángulo máximo permitido en las juntas universales\n",
    "        self.max_joint_angle=max_joint_angle\n",
    "    def x_rotation_matrix(self,r_x):\n",
    "        return np.array([[1,0,0],[0,np.cos(r_x),-np.sin(r_x)],[0,np.sin(r_x),np.cos(r_x)]]) \n",
    "    \n",
    "    def y_rotation_matrix(self,r_y):\n",
    "        return np.array([[np.cos(r_y),0,np.sin(r_y)],[0,1,0],[-np.sin(r_y),0,np.cos(r_y)]])\n",
    "          \n",
    "    def rotate(self,movement,joint,angle):\n",
    "        if movement==\"pitch\":\n",
    "            M_r=self.x_rotation_matrix(angle)\n",
    "        if movement==\"roll\":\n",
    "            M_r=self.y_rotation_matrix(angle)\n",
    "            \n",
    "        if joint==\"C1\":\n",
    "            wm=np.identity(3)\n",
    "        if joint==\"C2\":\n",
    "            wm=self.get_m2_basis()\n",
    "        if joint==\"C3\":\n",
    "            wm=self.get_m3_basis()\n",
    "        #transformamos los puntos a la base conveniente\n",
    "        self.c1=np.linalg.solve(wm,self.c1)\n",
    "        self.c2=np.linalg.solve(wm,self.c2)\n",
    "        self.c3=np.linalg.solve(wm,self.c3)\n",
    "        #realizamos la rotación de los mismos\n",
    "        self.c1=M_r.dot(self.c1)\n",
    "        self.c2=M_r.dot(self.c2)\n",
    "        self.c3=M_r.dot(self.c3)\n",
    "        #corregimos el offset de la plataforma\n",
    "        if joint==\"C1\":\n",
    "            self.apply_offset(self.c2)\n",
    "        if joint==\"C2\":\n",
    "            self.apply_offset(self.c3)\n",
    "        if joint==\"C3\":\n",
    "            self.apply_offset(self.c1)\n",
    "        #obtengo los puntos en la base original\n",
    "        self.c1=wm.dot(self.c1)\n",
    "        self.c2=wm.dot(self.c2)  \n",
    "        self.c3=wm.dot(self.c3)\n",
    "        \n",
    "    def apply_offset (self,pos):\n",
    "        \"la función desplaza la plataforma el offset correspondiente para compenzar el introducido por la rotación\"\n",
    "        allowed_pos=-pos[0]*np.tan(np.pi/6)\n",
    "        offset=np.array([0,allowed_pos-pos[1],0])\n",
    "        self.c1=self.c1+offset\n",
    "        self.c2=self.c2+offset\n",
    "        self.c3=self.c3+offset\n",
    "        \n",
    "    def get_m2_basis(self):\n",
    "        Wm2=np.array([[-np.cos(np.pi/3),np.cos(np.pi/6),0],[-np.sin(np.pi/3),-np.sin(np.pi/6),0],[0,0,1]])\n",
    "        return Wm2\n",
    "\n",
    "    def get_m3_basis(self):\n",
    "        Wm3=np.array([[-np.cos(np.pi/3),-np.cos(np.pi/6),0],[np.sin(np.pi/3),-np.sin(np.pi/6),0],[0,0,1]])\n",
    "        return Wm3\n",
    "    \n",
    "        \n",
    "    def calculate_P(self):\n",
    "            wm2=self.get_m2_basis()\n",
    "            wm3=self.get_m3_basis()\n",
    "            P1=self.c1+np.array([0,self.D,0])\n",
    "            P2=np.linalg.solve(wm2,self.c2)+np.array([0,self.D,0])\n",
    "            P3=np.linalg.solve(wm3,self.c3)+np.array([0,self.D,0])\n",
    "            #elimino la coordenana en x\n",
    "            P1=np.array([P1[1],P1[2]])\n",
    "            P2=np.array([P2[1],P2[2]])\n",
    "            P3=np.array([P3[1],P3[2]])\n",
    "            return P1,P2,P3\n",
    "    \n",
    "\n",
    "        \n",
    "    def correct_height(self,h):\n",
    "        c1x=self.c1[0]\n",
    "        c2x=self.c2[0]\n",
    "        c3x=self.c3[0]\n",
    "        \n",
    "        c1y=self.c1[1]\n",
    "        c2y=self.c2[1]\n",
    "        c3y=self.c3[1]\n",
    "        \n",
    "        c1z=self.c1[2]\n",
    "        c2z=self.c2[2]\n",
    "        c3z=self.c3[2]\n",
    "        \n",
    "        A=np.array([[c1x,c1y,1],[c2x,c2y,1],[c3x,c3y,1]])\n",
    "        B=np.array([c1z,c2z,c3z]).transpose()\n",
    "        params=np.linalg.solve(A,B)\n",
    "        offset=np.array([0,0,h-params[2]])\n",
    "        #corrijo la altura\n",
    "        self.c1=self.c1+offset\n",
    "        self.c2=self.c2+offset\n",
    "        self.c3=self.c3+offset\n",
    "        \n",
    "\n",
    "    def solve_platform(self,r_x,r_y,h):\n",
    "        if r_x==0 and r_y==0:\n",
    "            #Este if se utiliza para no calcular rotaciones cuando los ángulos de ambos ejes son cero\n",
    "            self.correct_height(h)\n",
    "        else:\n",
    "            joint,movement,angle=movement_assignment.assign_movement(r_x,r_y)\n",
    "            self.rotate(movement,joint,angle)\n",
    "            self.correct_height(h)\n",
    "        \n",
    "        P1,P2,P3=self.calculate_P()\n",
    "        limb_i=limb(self.l1,self.l2)\n",
    "        self.ang1=limb_i.calculate_motor_angle(P1,self.max_limb_error,self.max_limb_try_count)\n",
    "        self.ang2=limb_i.calculate_motor_angle(P2,self.max_limb_error,self.max_limb_try_count)\n",
    "        self.ang3=limb_i.calculate_motor_angle(P3,self.max_limb_error,self.max_limb_try_count)\n",
    "        #Chekeo el ángulo necesario en las juntas universales\n",
    "        return universal_joint_angles.check_angles(self)\n",
    "\n",
    "\n",
    "    \n",
    "\n",
    "        \n",
    "    def generate_geogebra (self):\n",
    "        s1=geogebra_script()\n",
    "        #Imprimo el plato\n",
    "        s1.add_point(self.c1,\"C1\")\n",
    "        s1.add_point(self.c2,\"C2\")\n",
    "        s1.add_point(self.c3,\"C3\")\n",
    "        s1.define_polygon(\"C1\",\"C2\",\"C3\")\n",
    "\n",
    "        #imprimo los ejes de los motores\n",
    "        D1=self.D*np.array([0,-1,0])\n",
    "        D2=self.D*np.array([-1*np.sin(np.pi/3),np.cos(np.pi/3),0])\n",
    "        D3=self.D*np.array([np.sin(np.pi/3),np.cos(np.pi/3),0])\n",
    "        s1.add_point(D1,\"M1\")\n",
    "        s1.add_point(D2,\"M2\")\n",
    "        s1.add_point(D3,\"M3\")\n",
    "        #Imprimo los planos de acción de los motores\n",
    "        s1.add_point(np.array([0,0,0]),\"AUX0\") \n",
    "        s1.add_point(np.array([0,0,1]),\"AUX4\")\n",
    "        s1.define_plane(\"M1\",\"AUX0\",\"AUX4\")\n",
    "        s1.define_plane(\"M2\",\"AUX0\",\"AUX4\")\n",
    "        s1.define_plane(\"M3\",\"AUX0\",\"AUX4\")\n",
    "        #imprimo el brazo l1\n",
    "        a1=np.array([0,np.cos(self.ang1),np.sin(self.ang1)])*self.l1 #esto es visto desde el plano de referencia del motor\n",
    "        a1=a1-np.array([0,self.D,0])#muevo el cero al centro de la plataforma\n",
    "        s1.add_point(a1,\"A1\")\n",
    "        s1.define_segment(\"M1\",\"A1\")\n",
    "        s1.define_segment(\"A1\",\"C1\")\n",
    "\n",
    "        #imprimo el brazo l2\n",
    "        a2=np.array([0,np.cos(self.ang2),np.sin(self.ang2)])*self.l1  #esto es visto desde el plano de referencia del motor\n",
    "        a2=a2-np.array([0,self.D,0])#muevo el cero al centro de la plataforma\n",
    "        wm2=self.get_m2_basis()\n",
    "        a2=wm2.dot(a2)\n",
    "        s1.add_point(a2,\"A2\")\n",
    "        s1.define_segment(\"M2\",\"A2\")\n",
    "        s1.define_segment(\"A2\",\"C2\")\n",
    "        #imprimo el brazo l3\n",
    "        a3=np.array([0,np.cos(self.ang3),np.sin(self.ang3)])*self.l1  #esto es visto desde el plano de referencia del motor\n",
    "        a3=a3-np.array([0,self.D,0])#muevo el cero al centro de la plataforma\n",
    "        wm3=self.get_m3_basis()\n",
    "        a3=wm3.dot(a3)\n",
    "        s1.add_point(a3,\"A3\")\n",
    "        s1.define_segment(\"M3\",\"A3\")\n",
    "        s1.define_segment(\"A3\",\"C3\")        \n",
    "        #imprimo los limites del motor\n",
    "        aux1=np.array([0,-self.D-2,2.5])\n",
    "        s1.add_point(aux1,\"AUX1\")\n",
    "        aux2=np.array([5,-self.D-2,2.5])\n",
    "        s1.add_point(aux2,\"AUX2\")\n",
    "        s1.define_segment(\"AUX1\",\"AUX2\")\n",
    "        return s1.print_script()\n",
    "    \n",
    "    def get_gradient(self):\n",
    "        c1x=self.c1[0]\n",
    "        c2x=self.c2[0]\n",
    "        c3x=self.c3[0]\n",
    "        \n",
    "        c1y=self.c1[1]\n",
    "        c2y=self.c2[1]\n",
    "        c3y=self.c3[1]\n",
    "        \n",
    "        c1z=self.c1[2]\n",
    "        c2z=self.c2[2]\n",
    "        c3z=self.c3[2]\n",
    "        \n",
    "        A=np.array([[c1x,c1y,1],[c2x,c2y,1],[c3x,c3y,1]])\n",
    "        B=np.array([c1z,c2z,c3z]).transpose()\n",
    "        params=np.linalg.solve(A,B)\n",
    "        return params\n",
    "        "
   ]
  },
  {
   "cell_type": "code",
   "execution_count": null,
   "id": "4acd815f",
   "metadata": {},
   "outputs": [],
   "source": [
    "class geogebra_script:\n",
    "    def __init__(self):\n",
    "        self.script=\"\"\n",
    "        self.first_item=1\n",
    "        \n",
    "    def add_point(self,point,name):\n",
    "        if self.first_item==0:\n",
    "            self.script+=\",\"\n",
    "        self.first_item=0\n",
    "        self.script+=\"\\\"{0}=({1:.3f},{2:.3f},{3:.3f})\\\"\\n\".format(name,point[0],point[1],point[2])\n",
    "\n",
    "    def add_2D_point(self,point,name):\n",
    "        if self.first_item==0:\n",
    "            self.script+=\",\"\n",
    "        self.first_item=0\n",
    "        self.script+=\"\\\"{0}=({1:.3f},{2:.3f})\\\"\\n\".format(name,point[0],point[1])\n",
    "        \n",
    "    def define_polygon(self,point1,point2,point3):\n",
    "        if self.first_item==0:\n",
    "            self.script+=\",\"\n",
    "        self.first_item=0\n",
    "        self.script+=\"\\\"\"\n",
    "        self.script+=\"Polygon({},{}, {})\".format(point1,point2,point3)\n",
    "        self.script+=\"\\\"\"\n",
    "        self.script+=\"\\n\"\n",
    "\n",
    "    def define_plane(self,point1,point2,point3):\n",
    "        if self.first_item==0:\n",
    "            self.script+=\",\"\n",
    "        self.first_item=0\n",
    "        self.script+=\"\\\"\"\n",
    "        self.script+=\"Plane({},{}, {})\".format(point1,point2,point3)\n",
    "        self.script+=\"\\\"\"\n",
    "        self.script+=\"\\n\"\n",
    "    def define_segment(self,point1,point2):\n",
    "        if self.first_item==0:\n",
    "            self.script+=\",\"\n",
    "        self.first_item=0\n",
    "        self.script+=\"\\\"\"\n",
    "        self.script+=\"Segment({},{})\".format(point1,point2)\n",
    "        self.script+=\"\\\"\"\n",
    "        self.script+=\"\\n\"   \n",
    "    def print_script(self):\n",
    "        print(\"Execute[{\\n\"+self.script+\"}]\")\n",
    "        return \"Execute[{\\n\"+self.script+\"}]\""
   ]
  },
  {
   "cell_type": "code",
   "execution_count": null,
   "id": "07f74e22",
   "metadata": {},
   "outputs": [],
   "source": [
    "class limb:\n",
    "    def __init__(self,l1,l2):\n",
    "        self.l1=l1\n",
    "        self.l2=l2\n",
    "    def evaluate_angle(self,P,angle):\n",
    "        a=self.l1*np.array([np.cos(angle),np.sin(angle)])\n",
    "        b=((P-a)/(np.linalg.norm(P-a)))*self.l2\n",
    "        return np.linalg.norm(P-a)-self.l2\n",
    "     \n",
    "    def calculate_motor_angle(self,P,max_error,tries):\n",
    "        P_angle=cmath.polar(P[0]+1j*P[1])[1]\n",
    "        angle_min=-90*np.pi/180\n",
    "        angle_max=P_angle\n",
    "        try_count=0\n",
    "        while(try_count<tries):\n",
    "            angle=0.5*(angle_max+angle_min)\n",
    "            e=self.evaluate_angle(P,angle)\n",
    "            if np.abs(e)<max_error:\n",
    "                break\n",
    "            if e>0:\n",
    "                angle_min=angle\n",
    "            if e<0:\n",
    "                angle_max=angle\n",
    "            try_count+=1\n",
    "        if try_count==tries:\n",
    "            #raise ValueError('Point unreachable\\nP=({},{})'.format(P[0],P[1]))\n",
    "            print('Point unreachable\\nP=({},{})'.format(P[0],P[1]))\n",
    "        else:\n",
    "            return angle"
   ]
  },
  {
   "cell_type": "code",
   "execution_count": null,
   "id": "9f20d4eb",
   "metadata": {},
   "outputs": [],
   "source": [
    "def check_motor_height (c1,c2,c3,D):\n",
    "    h=2.5\n",
    "    largo=2\n",
    "    ancho=5\n",
    "    \n",
    "    c1x=c1[0]\n",
    "    c2x=c2[0]\n",
    "    c3x=c3[0]\n",
    "        \n",
    "    c1y=c1[1]\n",
    "    c2y=c2[1]\n",
    "    c3y=c3[1]\n",
    "        \n",
    "    c1z=c1[2]\n",
    "    c2z=c2[2]\n",
    "    c3z=c3[2]\n",
    "        \n",
    "    A=np.array([[c1x,c1y,1],[c2x,c2y,1],[c3x,c3y,1]])\n",
    "    B=np.array([c1z,c2z,c3z]).transpose()\n",
    "    params=np.linalg.solve(A,B)\n",
    "    for x in np.linspace(start=0,stop=ancho,num=50):\n",
    "        point=np.array([[x],[-D-largo],[1]])\n",
    "        height_plato=np.dot(params,point)\n",
    "        if height_plato<h:\n",
    "            return -1\n"
   ]
  },
  {
   "cell_type": "code",
   "execution_count": null,
   "id": "c9989e13",
   "metadata": {},
   "outputs": [],
   "source": [
    "angle_spacex=np.linspace(start=-19*np.pi/180,stop=19*np.pi/180,num=10)\n",
    "angle_spacey=np.linspace(start=-19*np.pi/180,stop=19*np.pi/180,num=10)\n",
    "h_space=np.linspace(start=7,stop=7,num=1)\n",
    "s1=geogebra_script()\n",
    "point=0\n",
    "for height in [10,11,12,13,14]:\n",
    "    for angle_x in angle_spacex:\n",
    "        for angle_y in angle_spacey:\n",
    "            p1=platform(d=6,D=10,l1=1,l2=12,max_limb_error=0.00001,max_limb_try_count=30,max_joint_angle=23*np.pi/180)\n",
    "            result=p1.solve_platform(r_x=angle_x,r_y=angle_y,h=height) \n",
    "            if result==-1:\n",
    "                print(\"angle exceeded\")\n",
    "                print(\"angle_x={}\".format(angle_x*180/np.pi))\n",
    "                print(\"angle_y={}\".format(angle_y*180/np.pi))\n",
    "            else:\n",
    "                check_h=check_motor_height (p1.c1,p1.c2,p1.c3,p1.D)\n",
    "                if check_h==-1:\n",
    "                    print(\"Motor choca con el plato:\\n\")\n",
    "                    \"[BUG]:si el motor choca contra el plato y al mismo tiempo el punto es unreachable no se puede generar el\"\n",
    "                    \"Script de geogebra, porque no hay angulos para armar los limbs\"\n",
    "                    #p1.generate_geogebra()\n",
    "                P1,P2,P3=p1.calculate_P()\n",
    "                name=\"P\"+str(point)\n",
    "                s1.add_2D_point(P1,name)\n",
    "                point=point+1"
   ]
  },
  {
   "cell_type": "code",
   "execution_count": null,
   "id": "eb79d38e",
   "metadata": {
    "scrolled": true
   },
   "outputs": [],
   "source": [
    "pyperclip.copy(s1.print_script())"
   ]
  },
  {
   "cell_type": "code",
   "execution_count": 49,
   "id": "85c64cd4",
   "metadata": {
    "scrolled": true
   },
   "outputs": [
    {
     "name": "stdout",
     "output_type": "stream",
     "text": [
      "[0.8660254 0.5       0.       ]\n",
      "pitch\n",
      "C3\n",
      "-0.47536334624702803\n",
      "Joint angle exceeded\n",
      " C1.angle=24.025911270594804º >23.0º\n"
     ]
    },
    {
     "data": {
      "text/plain": [
       "-1"
      ]
     },
     "execution_count": 49,
     "metadata": {},
     "output_type": "execute_result"
    }
   ],
   "source": [
    "p1=platform(d=6,D=10,l1=6,l2=12,max_limb_error=0.00001,max_limb_try_count=30,max_joint_angle=23*np.pi/180)\n",
    "p1.solve_platform(r_x=-20*np.pi/180,r_y=-20*np.pi/180,h=10) "
   ]
  },
  {
   "cell_type": "code",
   "execution_count": 50,
   "id": "896ea4ed",
   "metadata": {
    "scrolled": true
   },
   "outputs": [
    {
     "name": "stdout",
     "output_type": "stream",
     "text": [
      "Execute[{\n",
      "\"C1=(0.000,-6.000,8.456)\"\n",
      ",\"C2=(-5.196,3.000,8.456)\"\n",
      ",\"C3=(4.332,2.501,12.575)\"\n",
      ",\"Polygon(C1,C2, C3)\"\n",
      ",\"M1=(0.000,-10.000,0.000)\"\n",
      ",\"M2=(-8.660,5.000,0.000)\"\n",
      ",\"M3=(8.660,5.000,0.000)\"\n",
      ",\"AUX0=(0.000,0.000,0.000)\"\n",
      ",\"AUX4=(0.000,0.000,1.000)\"\n",
      ",\"Plane(M1,AUX0, AUX4)\"\n",
      ",\"Plane(M2,AUX0, AUX4)\"\n",
      ",\"Plane(M3,AUX0, AUX4)\"\n",
      ",\"A1=(0.000,-5.136,-3.513)\"\n",
      ",\"Segment(M1,A1)\"\n",
      ",\"Segment(A1,C1)\"\n",
      ",\"A2=(-4.448,2.568,-3.513)\"\n",
      ",\"Segment(M2,A2)\"\n",
      ",\"Segment(A2,C2)\"\n",
      ",\"A3=(3.491,2.016,0.614)\"\n",
      ",\"Segment(M3,A3)\"\n",
      ",\"Segment(A3,C3)\"\n",
      ",\"AUX1=(0.000,-12.000,2.500)\"\n",
      ",\"AUX2=(5.000,-12.000,2.500)\"\n",
      ",\"Segment(AUX1,AUX2)\"\n",
      "}]\n"
     ]
    }
   ],
   "source": [
    "pyperclip.copy(p1.generate_geogebra())"
   ]
  },
  {
   "cell_type": "code",
   "execution_count": 46,
   "id": "8bce1826",
   "metadata": {},
   "outputs": [
    {
     "data": {
      "text/plain": [
       "array([ 0.36397023, -0.        , 10.        ])"
      ]
     },
     "execution_count": 46,
     "metadata": {},
     "output_type": "execute_result"
    }
   ],
   "source": [
    "p1.get_gradient()"
   ]
  },
  {
   "cell_type": "code",
   "execution_count": 40,
   "id": "9bcb54dc",
   "metadata": {},
   "outputs": [
    {
     "name": "stdout",
     "output_type": "stream",
     "text": [
      "[1. 0. 0.]\n"
     ]
    }
   ],
   "source": [
    "joint,mov,angle=movement_assignment.assign_movement(-20*np.pi/180,-20*np.pi/180)"
   ]
  },
  {
   "cell_type": "code",
   "execution_count": 28,
   "id": "86815765",
   "metadata": {},
   "outputs": [
    {
     "data": {
      "text/plain": [
       "'C1'"
      ]
     },
     "execution_count": 28,
     "metadata": {},
     "output_type": "execute_result"
    }
   ],
   "source": [
    "joint"
   ]
  },
  {
   "cell_type": "code",
   "execution_count": 29,
   "id": "75214ce7",
   "metadata": {},
   "outputs": [
    {
     "data": {
      "text/plain": [
       "'roll'"
      ]
     },
     "execution_count": 29,
     "metadata": {},
     "output_type": "execute_result"
    }
   ],
   "source": [
    "mov"
   ]
  },
  {
   "cell_type": "code",
   "execution_count": 30,
   "id": "72d166d9",
   "metadata": {},
   "outputs": [
    {
     "data": {
      "text/plain": [
       "20.0"
      ]
     },
     "execution_count": 30,
     "metadata": {},
     "output_type": "execute_result"
    }
   ],
   "source": [
    "angle*180/np.pi"
   ]
  },
  {
   "cell_type": "code",
   "execution_count": null,
   "id": "0517b44a",
   "metadata": {},
   "outputs": [],
   "source": []
  },
  {
   "cell_type": "code",
   "execution_count": null,
   "id": "0b2c7ede",
   "metadata": {},
   "outputs": [],
   "source": []
  }
 ],
 "metadata": {
  "kernelspec": {
   "display_name": "Python 3",
   "language": "python",
   "name": "python3"
  },
  "language_info": {
   "codemirror_mode": {
    "name": "ipython",
    "version": 3
   },
   "file_extension": ".py",
   "mimetype": "text/x-python",
   "name": "python",
   "nbconvert_exporter": "python",
   "pygments_lexer": "ipython3",
   "version": "3.8.5"
  }
 },
 "nbformat": 4,
 "nbformat_minor": 5
}
