{
 "cells": [
  {
   "cell_type": "code",
   "execution_count": 112,
   "id": "42fa536b",
   "metadata": {},
   "outputs": [],
   "source": [
    "import numpy as np\n",
    "import cmath"
   ]
  },
  {
   "cell_type": "code",
   "execution_count": 174,
   "id": "138160be",
   "metadata": {},
   "outputs": [],
   "source": [
    "class platform:\n",
    "    def __init__(self,d,D):\n",
    "        \"d: distancia de cada junta universal en la plataforma al centro\"\n",
    "        \"D: distancia del eje de cada motor al centro\"\n",
    "        \"la altura del eje del motor es conciderada el plano z=0\"\n",
    "        self.c1=np.array([0,-d,0])\n",
    "        self.c2=np.array([-d*np.sin(np.pi/3),d*np.cos(np.pi/3),0])\n",
    "        self.c3=np.array([d*np.sin(np.pi/3),d*np.cos(np.pi/3),0])\n",
    "    \n",
    "        self.D=D\n",
    "\n",
    "    def x_rotation_matrix(self,r_x):\n",
    "        return np.array([[1,0,0],[0,np.cos(r_x),-np.sin(r_x)],[0,np.sin(r_x),np.cos(r_x)]]) \n",
    "    \n",
    "    def y_rotation_matrix(self,r_y):\n",
    "        return np.array([[np.cos(r_y),0,np.sin(r_y)],[0,1,0],[-np.sin(r_y),0,np.cos(r_y)]])\n",
    "          \n",
    "    def rotate(self,movement,joint,angle):\n",
    "        if movement==\"pitch\":\n",
    "            M_r=self.x_rotation_matrix(angle)\n",
    "        if movement==\"roll\":\n",
    "            M_r=self.y_rotation_matrix(angle)\n",
    "            \n",
    "        if joint==\"C1\":\n",
    "            wm=np.identity(3)\n",
    "        if joint==\"C2\":\n",
    "            wm=self.get_m2_basis()\n",
    "        if joint==\"C3\":\n",
    "            wm=self.get_m3_basis()\n",
    "        #transformamos los puntos a la base conveniente\n",
    "        self.c1=np.linalg.solve(wm,self.c1)\n",
    "        self.c2=np.linalg.solve(wm,self.c2)\n",
    "        self.c3=np.linalg.solve(wm,self.c3)\n",
    "        #realizamos la rotación de los mismos\n",
    "        self.c1=M_r.dot(self.c1)\n",
    "        self.c2=M_r.dot(self.c2)\n",
    "        self.c3=M_r.dot(self.c3)\n",
    "        #corregimos el offset de la plataforma\n",
    "        if joint==\"C1\":\n",
    "            self.apply_offset(self.c2)\n",
    "        if joint==\"C2\":\n",
    "            self.apply_offset(self.c3)\n",
    "        if joint==\"C3\":\n",
    "            self.apply_offset(self.c1)\n",
    "        #obtengo los puntos en la base original\n",
    "        self.c1=wm.dot(self.c1)\n",
    "        self.c2=wm.dot(self.c2)  \n",
    "        self.c3=wm.dot(self.c3)\n",
    "        \n",
    "    def apply_offset (self,pos):\n",
    "        \"la función desplaza la plataforma el offset correspondiente para compenzar el introducido por la rotación\"\n",
    "        allowed_pos=-pos[0]*np.tan(np.pi/6)\n",
    "        offset=np.array([0,allowed_pos-pos[1],0])\n",
    "        self.c1=self.c1+offset\n",
    "        self.c2=self.c2+offset\n",
    "        self.c3=self.c3+offset\n",
    "        \n",
    "    def get_m2_basis(self):\n",
    "        Wm2=np.array([[-np.cos(np.pi/3),np.cos(np.pi/6),0],[-np.sin(np.pi/3),-np.sin(np.pi/6),0],[0,0,1]])\n",
    "        return Wm2\n",
    "\n",
    "    def get_m3_basis(self):\n",
    "        Wm3=np.array([[-np.cos(np.pi/3),-np.cos(np.pi/6),0],[np.sin(np.pi/3),-np.sin(np.pi/6),0],[0,0,1]])\n",
    "        return Wm3\n",
    "    \n",
    "        \n",
    "    def calculate_P(self):\n",
    "            wm2=self.get_m2_basis()\n",
    "            wm3=self.get_m3_basis()\n",
    "            P1=self.c1+np.array([0,self.D,0])\n",
    "            P2=np.linalg.solve(wm2,self.c2)+np.array([0,self.D,0])\n",
    "            P3=np.linalg.solve(wm3,self.c3)+np.array([0,self.D,0])\n",
    "            return P1,P2,P3\n",
    "        \n",
    "    def correct_height(self,h):\n",
    "        \"[TODO]: Hay que desarrollarlo\"\n",
    "        aux=np.array([0,0,h])\n",
    "        self.c1=self.c1+aux\n",
    "        self.c2=self.c2+aux\n",
    "        self.c3=self.c3+aux\n",
    "    def solve_platform(self,r_x,r_y,h):\n",
    "        if r_x==0 and r_y==0:\n",
    "            self.correct_height(h)\n",
    "            return\n",
    "        \n",
    "        ang_vect=np.array([r_x,r_y,0])\n",
    "        movement,joint=self.assign_movement(r_x,r_y)\n",
    "        #obtengo la base más conveniente\n",
    "        if joint==\"C1\":\n",
    "            wm=np.identity(3)\n",
    "        if joint==\"C2\":\n",
    "            wm=self.get_m2_basis()\n",
    "        if joint==\"C3\":\n",
    "            wm=self.get_m3_basis()\n",
    "        #referencio el vector de rotación a la base\n",
    "        ang_vect=np.linalg.solve(wm,ang_vect)\n",
    "        \n",
    "        if movement==\"roll\":\n",
    "            self.rotate(movement,joint,ang_vect[0])\n",
    "        if movement==\"pitch\":\n",
    "            self.rotate(movement,joint,ang_vect[1])\n",
    "        self.correct_height(h)\n",
    "        \"[TODO]: hay que desarrollar la función para calcular el angulo de los motores\"\n",
    "        return self.calculate_P()\n",
    "    \n",
    "    def assign_movement(self,r_x,r_y):\n",
    "        angle=cmath.polar(r_x+1j*r_y)[1]*(180/np.pi)\n",
    "    \n",
    "        if angle<0:\n",
    "            angle+=180\n",
    "        if angle > 165:\n",
    "            return \"roll\",\"C1\"\n",
    "        if angle > 135 and angle <= 165:\n",
    "            return \"pitch\",\"C2\"\n",
    "        if angle > 105 and angle <= 135:\n",
    "            return \"roll\",\"C3\"\n",
    "        if angle > 75 and angle <= 105:\n",
    "            return \"pitch\",\"C1\"\n",
    "        if angle <= 75 and angle >45:\n",
    "            return \"roll\",\"C2\"\n",
    "        if angle <= 45 and angle >15:\n",
    "            return \"pitch\",\"C3\"  \n",
    "        if angle <= 15:\n",
    "            return \"roll\",\"C1\"  \n",
    "\n",
    "\n",
    "    def generate_geogebra (self):\n",
    "        s1=geogebra_script()\n",
    "        #Imprimo el plato\n",
    "        s1.add_point(self.c1,\"C1\")\n",
    "        s1.add_point(self.c2,\"C2\")\n",
    "        s1.add_point(self.c3,\"C3\")\n",
    "        s1.define_polygon(\"C1\",\"C2\",\"C3\")\n",
    "        #Imprimo los planos de acción de los motores\n",
    "        s1.add_point(np.array([0,-1,0]),\"AUX1\")\n",
    "        s1.add_point(np.array([-np.sin(np.pi/3),np.cos(np.pi/3),0]),\"AUX2\")\n",
    "        s1.add_point(np.array([np.sin(np.pi/3),np.cos(np.pi/3),0]),\"AUX3\") \n",
    "        s1.add_point(np.array([0,0,0]),\"AUX0\") \n",
    "        s1.add_point(np.array([0,0,1]),\"AUX4\")\n",
    "        s1.define_plane(\"AUX1\",\"AUX0\",\"AUX4\")\n",
    "        s1.define_plane(\"AUX2\",\"AUX0\",\"AUX4\")\n",
    "        s1.define_plane(\"AUX3\",\"AUX0\",\"AUX4\")\n",
    "        s1.print_script()"
   ]
  },
  {
   "cell_type": "code",
   "execution_count": 175,
   "id": "4acd815f",
   "metadata": {},
   "outputs": [],
   "source": [
    "class geogebra_script:\n",
    "    def __init__(self):\n",
    "        self.script=\"\"\n",
    "        self.first_item=1\n",
    "        \n",
    "    def add_point(self,point,name):\n",
    "        if self.first_item==0:\n",
    "            self.script+=\",\"\n",
    "        self.first_item=0\n",
    "        self.script+=\"\\\"{0}=({1:.3f},{2:.3f},{3:.3f})\\\"\\n\".format(name,point[0],point[1],point[2])\n",
    "        \n",
    "    def define_polygon(self,point1,point2,point3):\n",
    "        if self.first_item==0:\n",
    "            self.script+=\",\"\n",
    "        self.first_item=0\n",
    "        self.script+=\"\\\"\"\n",
    "        self.script+=\"Polygon({},{}, {})\".format(point1,point2,point3)\n",
    "        self.script+=\"\\\"\"\n",
    "        self.script+=\"\\n\"\n",
    "\n",
    "    def define_plane(self,point1,point2,point3):\n",
    "        if self.first_item==0:\n",
    "            self.script+=\",\"\n",
    "        self.first_item=0\n",
    "        self.script+=\"\\\"\"\n",
    "        self.script+=\"Plane({},{}, {})\".format(point1,point2,point3)\n",
    "        self.script+=\"\\\"\"\n",
    "        self.script+=\"\\n\"\n",
    "        \n",
    "    def print_script(self):\n",
    "        print(\"Execute[{\\n\"+self.script+\"}]\")"
   ]
  },
  {
   "cell_type": "code",
   "execution_count": 176,
   "id": "07f74e22",
   "metadata": {},
   "outputs": [
    {
     "data": {
      "text/plain": [
       "array([[1., 0., 0.],\n",
       "       [0., 1., 0.],\n",
       "       [0., 0., 1.]])"
      ]
     },
     "execution_count": 176,
     "metadata": {},
     "output_type": "execute_result"
    }
   ],
   "source": [
    "np.identity(3)"
   ]
  },
  {
   "cell_type": "code",
   "execution_count": 187,
   "id": "6dfde9fc",
   "metadata": {
    "scrolled": true
   },
   "outputs": [
    {
     "name": "stdout",
     "output_type": "stream",
     "text": [
      "Execute[{\n",
      "\"C1=(0.000,-1.000,0.672)\"\n",
      ",\"C2=(-0.866,0.500,0.672)\"\n",
      ",\"C3=(0.548,0.316,1.656)\"\n",
      ",\"Polygon(C1,C2, C3)\"\n",
      ",\"AUX1=(0.000,-1.000,0.000)\"\n",
      ",\"AUX2=(-0.866,0.500,0.000)\"\n",
      ",\"AUX3=(0.866,0.500,0.000)\"\n",
      ",\"AUX0=(0.000,0.000,0.000)\"\n",
      ",\"AUX4=(0.000,0.000,1.000)\"\n",
      ",\"Plane(AUX1,AUX0, AUX4)\"\n",
      ",\"Plane(AUX2,AUX0, AUX4)\"\n",
      ",\"Plane(AUX3,AUX0, AUX4)\"\n",
      "}]\n"
     ]
    }
   ],
   "source": [
    "p1=platform(d=1,D=18)\n",
    "p1.solve_platform(30*np.pi/180,30*np.pi/180,1)\n",
    "p1.generate_geogebra()"
   ]
  },
  {
   "cell_type": "code",
   "execution_count": 178,
   "id": "73ba89f9",
   "metadata": {
    "scrolled": false
   },
   "outputs": [
    {
     "name": "stdout",
     "output_type": "stream",
     "text": [
      "Execute[{\n",
      "\"C1=(0.000,-1.000,0.433)\"\n",
      ",\"C2=(-0.866,0.500,0.433)\"\n",
      ",\"C3=(0.217,0.125,-0.866)\"\n",
      ",\"Polygon(C1,C2, C3)\"\n",
      ",\"AUX1=(0.000,-1.000,0.000)\"\n",
      ",\"AUX2=(-0.866,0.500,0.000)\"\n",
      ",\"AUX3=(0.866,0.500,0.000)\"\n",
      ",\"AUX0=(0.000,0.000,0.000)\"\n",
      ",\"AUX4=(0.000,0.000,1.000)\"\n",
      ",\"Plane(AUX1,AUX0, AUX4)\"\n",
      ",\"Plane(AUX2,AUX0, AUX4)\"\n",
      ",\"Plane(AUX3,AUX0, AUX4)\"\n",
      "}]\n"
     ]
    }
   ],
   "source": [
    "p1=platform(d=1,D=18)\n",
    "p1.rotate(movement=\"pitch\",joint=\"C3\",angle=60*(np.pi/180))\n",
    "p1.generate_geogebra()"
   ]
  },
  {
   "cell_type": "code",
   "execution_count": 179,
   "id": "ea979a28",
   "metadata": {},
   "outputs": [
    {
     "data": {
      "text/plain": [
       "0.3490658503988659"
      ]
     },
     "execution_count": 179,
     "metadata": {},
     "output_type": "execute_result"
    }
   ],
   "source": [
    "np.pi/9"
   ]
  },
  {
   "cell_type": "code",
   "execution_count": 141,
   "id": "340f64f2",
   "metadata": {},
   "outputs": [
    {
     "data": {
      "text/plain": [
       "('roll', 'C1')"
      ]
     },
     "execution_count": 141,
     "metadata": {},
     "output_type": "execute_result"
    }
   ],
   "source": [
    "assign_movement(-1,0)"
   ]
  },
  {
   "cell_type": "code",
   "execution_count": null,
   "id": "c0882ad7",
   "metadata": {},
   "outputs": [],
   "source": []
  },
  {
   "cell_type": "code",
   "execution_count": null,
   "id": "f7bb463f",
   "metadata": {},
   "outputs": [],
   "source": []
  },
  {
   "cell_type": "code",
   "execution_count": null,
   "id": "3931d489",
   "metadata": {},
   "outputs": [],
   "source": []
  }
 ],
 "metadata": {
  "kernelspec": {
   "display_name": "Python 3",
   "language": "python",
   "name": "python3"
  },
  "language_info": {
   "codemirror_mode": {
    "name": "ipython",
    "version": 3
   },
   "file_extension": ".py",
   "mimetype": "text/x-python",
   "name": "python",
   "nbconvert_exporter": "python",
   "pygments_lexer": "ipython3",
   "version": "3.8.5"
  }
 },
 "nbformat": 4,
 "nbformat_minor": 5
}
