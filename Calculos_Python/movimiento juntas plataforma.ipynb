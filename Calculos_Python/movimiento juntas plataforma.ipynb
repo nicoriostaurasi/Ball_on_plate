{
 "cells": [
  {
   "cell_type": "code",
   "execution_count": 1,
   "metadata": {},
   "outputs": [],
   "source": [
    "import numpy as np\n",
    "import matplotlib.pyplot as plt\n",
    "import geogebra"
   ]
  },
  {
   "cell_type": "code",
   "execution_count": 2,
   "metadata": {},
   "outputs": [],
   "source": [
    "def get_projection(alfa,beta):\n",
    "    C1=np.array([0,-1,0])\n",
    "    C2=np.array([-np.cos(np.pi*30/180),np.sin(np.pi*30/180),0])\n",
    "    C3=np.array([np.cos(np.pi*30/180),np.sin(np.pi*30/180),0])\n",
    "    xp=np.array([np.cos(alfa),0,np.sin(alfa)])\n",
    "    yp=np.array([0,np.cos(beta),np.sin(beta)])\n",
    "    zp=np.cross(xp,yp)\n",
    "    zp=zp/(np.linalg.norm(zp))\n",
    "    xp=np.cross(yp,zp)\n",
    "    print(f\"xp norm={np.linalg.norm(xp)}\")\n",
    "    print(f\"yp norm={np.linalg.norm(yp)}\")\n",
    "    print(f\"zp norm={np.linalg.norm(zp)}\")\n",
    "    print(f\"xp ={xp}\")\n",
    "    print(f\"yp ={yp}\")\n",
    "    print(f\"zp ={zp}\")\n",
    "    \n",
    "    M=np.array([xp,yp,zp]).T\n",
    "\n",
    "    print(f\"M={M}\")\n",
    "    offset=C1\n",
    "    C1t=np.dot(M,C1)\n",
    "    C2t=np.dot(M,C2)\n",
    "    C3t=np.dot(M,C3)\n",
    "    print(f\"C1={C1}\")\n",
    "    print(f\"C2={C2}\")\n",
    "    print(f\"C3={C3}\")\n",
    "    \n",
    "    print(f\"C12={np.linalg.norm(C1-C2)}\")\n",
    "    print(f\"C23={np.linalg.norm(C2-C3)}\")\n",
    "    print(f\"C31={np.linalg.norm(C3-C1)}\")\n",
    "    print(f\"C12t={np.linalg.norm(C1t-C2t)}\")\n",
    "    print(f\"C23t={np.linalg.norm(C2t-C3t)}\")\n",
    "    print(f\"C31t={np.linalg.norm(C3t-C1t)}\") \n",
    "    \n",
    "    points=np.array([C1t,C2t,C3t])\n",
    "    x, y,z = zip(*points)\n",
    "    colors=[0,0,0,100,100,100]\n",
    "    plt.scatter(x, y, c=z)\n",
    "    plt.colorbar();  # show color scale\n",
    "    return C1t[0:2],C2t[0:2],C3t[0:2]\n"
   ]
  },
  {
   "cell_type": "code",
   "execution_count": 3,
   "metadata": {},
   "outputs": [
    {
     "name": "stdout",
     "output_type": "stream",
     "text": [
      "xp norm=1.0\n",
      "yp norm=0.9999999999999999\n",
      "zp norm=1.0\n",
      "xp =[ 0.99800867 -0.06211863  0.01095319]\n",
      "yp =[0.         0.17364818 0.98480775]\n",
      "zp =[-0.06307691 -0.98284667  0.17330239]\n",
      "M=[[ 0.99800867  0.         -0.06307691]\n",
      " [-0.06211863  0.17364818 -0.98284667]\n",
      " [ 0.01095319  0.98480775  0.17330239]]\n",
      "C1=[ 0 -1  0]\n",
      "C2=[-0.8660254  0.5        0.       ]\n",
      "C3=[0.8660254 0.5       0.       ]\n",
      "C12=1.7320508075688772\n",
      "C23=1.7320508075688774\n",
      "C31=1.7320508075688772\n",
      "C12t=1.7320508075688772\n",
      "C23t=1.7320508075688776\n",
      "C31t=1.7320508075688774\n"
     ]
    },
    {
     "data": {
      "text/plain": [
       "(array([ 0.        , -0.17364818]),\n",
       " array([-0.86430086,  0.1406204 ]),\n",
       " array([0.86430086, 0.03302778]))"
      ]
     },
     "execution_count": 3,
     "metadata": {},
     "output_type": "execute_result"
    },
    {
     "data": {
      "image/png": "[encoded data removed]",
      "text/plain": [
       "<Figure size 432x288 with 2 Axes>"
      ]
     },
     "metadata": {
      "needs_background": "light"
     },
     "output_type": "display_data"
    }
   ],
   "source": [
    "get_projection(20*np.pi/180,80*np.pi/180)"
   ]
  },
  {
   "cell_type": "code",
   "execution_count": 4,
   "metadata": {},
   "outputs": [
    {
     "ename": "NameError",
     "evalue": "name 'x' is not defined",
     "output_type": "error",
     "traceback": [
      "\u001b[0;31m---------------------------------------------------------------------------\u001b[0m",
      "\u001b[0;31mNameError\u001b[0m                                 Traceback (most recent call last)",
      "\u001b[0;32m<ipython-input-4-71c062c7f42e>\u001b[0m in \u001b[0;36m<module>\u001b[0;34m\u001b[0m\n\u001b[0;32m----> 1\u001b[0;31m \u001b[0mM\u001b[0m\u001b[0;34m=\u001b[0m\u001b[0mnp\u001b[0m\u001b[0;34m.\u001b[0m\u001b[0marray\u001b[0m\u001b[0;34m(\u001b[0m\u001b[0;34m[\u001b[0m\u001b[0mx\u001b[0m\u001b[0;34m,\u001b[0m\u001b[0my\u001b[0m\u001b[0;34m,\u001b[0m\u001b[0mz\u001b[0m\u001b[0;34m]\u001b[0m\u001b[0;34m)\u001b[0m\u001b[0;34m\u001b[0m\u001b[0;34m\u001b[0m\u001b[0m\n\u001b[0m",
      "\u001b[0;31mNameError\u001b[0m: name 'x' is not defined"
     ]
    }
   ],
   "source": [
    "M=np.array([x,y,z])"
   ]
  },
  {
   "cell_type": "code",
   "execution_count": null,
   "metadata": {},
   "outputs": [],
   "source": [
    "points"
   ]
  },
  {
   "cell_type": "code",
   "execution_count": null,
   "metadata": {},
   "outputs": [],
   "source": []
  },
  {
   "cell_type": "code",
   "execution_count": null,
   "metadata": {},
   "outputs": [],
   "source": []
  },
  {
   "cell_type": "code",
   "execution_count": null,
   "metadata": {},
   "outputs": [],
   "source": []
  },
  {
   "cell_type": "code",
   "execution_count": 5,
   "metadata": {},
   "outputs": [
    {
     "ename": "NameError",
     "evalue": "name 'rotar_vector' is not defined",
     "output_type": "error",
     "traceback": [
      "\u001b[0;31m---------------------------------------------------------------------------\u001b[0m",
      "\u001b[0;31mNameError\u001b[0m                                 Traceback (most recent call last)",
      "\u001b[0;32m<ipython-input-5-2a97f89e8f23>\u001b[0m in \u001b[0;36m<module>\u001b[0;34m\u001b[0m\n\u001b[0;32m----> 1\u001b[0;31m \u001b[0mrotar_vector\u001b[0m\u001b[0;34m(\u001b[0m\u001b[0;36m90\u001b[0m\u001b[0;34m*\u001b[0m\u001b[0mnp\u001b[0m\u001b[0;34m.\u001b[0m\u001b[0mpi\u001b[0m\u001b[0;34m/\u001b[0m\u001b[0;36m180\u001b[0m\u001b[0;34m,\u001b[0m\u001b[0;34m-\u001b[0m\u001b[0;36m90\u001b[0m\u001b[0;34m*\u001b[0m\u001b[0mnp\u001b[0m\u001b[0;34m.\u001b[0m\u001b[0mpi\u001b[0m\u001b[0;34m/\u001b[0m\u001b[0;36m180\u001b[0m\u001b[0;34m,\u001b[0m\u001b[0mnp\u001b[0m\u001b[0;34m.\u001b[0m\u001b[0marray\u001b[0m\u001b[0;34m(\u001b[0m\u001b[0;34m[\u001b[0m\u001b[0;36m1\u001b[0m\u001b[0;34m,\u001b[0m\u001b[0;36m0\u001b[0m\u001b[0;34m,\u001b[0m\u001b[0;36m0\u001b[0m\u001b[0;34m]\u001b[0m\u001b[0;34m)\u001b[0m\u001b[0;34m)\u001b[0m\u001b[0;34m\u001b[0m\u001b[0;34m\u001b[0m\u001b[0m\n\u001b[0m",
      "\u001b[0;31mNameError\u001b[0m: name 'rotar_vector' is not defined"
     ]
    }
   ],
   "source": [
    "rotar_vector(90*np.pi/180,-90*np.pi/180,np.array([1,0,0]))"
   ]
  },
  {
   "cell_type": "code",
   "execution_count": 36,
   "metadata": {},
   "outputs": [],
   "source": [
    "import numpy as np\n",
    "import matplotlib.pyplot as plt\n",
    "import limb\n",
    "import basis\n",
    "\n",
    "#Function that performs the rotation\n",
    "def rotate_vector(ang_x,ang_y,p):\n",
    "    Mx=np.array([[1,0,0],[0,np.cos(ang_x),-np.sin(ang_x)],[0,np.sin(ang_x),np.cos(ang_x)]])\n",
    "    My=np.array([[np.cos(ang_y),0,np.sin(ang_y)],[0,1,0],[-np.sin(ang_y),0,np.cos(ang_y)]])\n",
    "    Mxy=np.dot(Mx,My)\n",
    "    p_rot=np.dot(Mxy,p)\n",
    "    return p_rot\n",
    "\n",
    "#positions of the ball joins when they are unactuated\n",
    "dist=6\n",
    "C1=dist*np.array([0,-1,0])\n",
    "C2=dist*np.array([-np.cos(np.pi*30/180),np.sin(np.pi*30/180),0])\n",
    "C3=dist*np.array([np.cos(np.pi*30/180),np.sin(np.pi*30/180),0])\n",
    "#angles to perform\n",
    "ang_x=18*np.pi/180\n",
    "ang_y=0*np.pi/180\n",
    "#making the rotation of the joints\n",
    "C1r=rotate_vector(ang_x,ang_y,C1)\n",
    "C2r=rotate_vector(ang_x,ang_y,C2)\n",
    "C3r=rotate_vector(ang_x,ang_y,C3)\n",
    "#calculo el angulo de los motores\n",
    "P1=basis.base_change_cannon_to_m1(C1r)+np.array([0,10,14])\n",
    "P2=basis.base_change_cannon_to_m2(C2r)+np.array([0,10,14])\n",
    "P3=basis.base_change_cannon_to_m3(C3r)+np.array([0,10,14])\n",
    "\n",
    "limb_i=limb.limb(l1=6,l2=12)\n",
    "ang1=limb_i.calculate_motor_angle(P1,0.01,30)\n",
    "ang2=limb_i.calculate_motor_angle(P2,0.01,30)\n",
    "ang3=limb_i.calculate_motor_angle(P3,0.01,30)"
   ]
  },
  {
   "cell_type": "code",
   "execution_count": 37,
   "metadata": {},
   "outputs": [
    {
     "data": {
      "text/plain": [
       "2.4935268755504407"
      ]
     },
     "execution_count": 37,
     "metadata": {},
     "output_type": "execute_result"
    }
   ],
   "source": [
    "ang1*180/np.pi"
   ]
  },
  {
   "cell_type": "code",
   "execution_count": 38,
   "metadata": {},
   "outputs": [
    {
     "data": {
      "text/plain": [
       "29.691219831952974"
      ]
     },
     "execution_count": 38,
     "metadata": {},
     "output_type": "execute_result"
    }
   ],
   "source": [
    "ang2*180/np.pi"
   ]
  },
  {
   "cell_type": "code",
   "execution_count": 39,
   "metadata": {},
   "outputs": [
    {
     "data": {
      "text/plain": [
       "29.691219831952974"
      ]
     },
     "execution_count": 39,
     "metadata": {},
     "output_type": "execute_result"
    }
   ],
   "source": [
    "ang3*180/np.pi"
   ]
  },
  {
   "cell_type": "code",
   "execution_count": 12,
   "metadata": {},
   "outputs": [
    {
     "data": {
      "text/plain": [
       "array([ 0,  4, 12])"
      ]
     },
     "execution_count": 12,
     "metadata": {},
     "output_type": "execute_result"
    }
   ],
   "source": [
    "P1"
   ]
  },
  {
   "cell_type": "code",
   "execution_count": 13,
   "metadata": {},
   "outputs": [
    {
     "data": {
      "text/plain": [
       "array([ 0.,  4., 12.])"
      ]
     },
     "execution_count": 13,
     "metadata": {},
     "output_type": "execute_result"
    }
   ],
   "source": [
    "P2"
   ]
  },
  {
   "cell_type": "code",
   "execution_count": 14,
   "metadata": {},
   "outputs": [
    {
     "data": {
      "text/plain": [
       "array([ 0.,  4., 12.])"
      ]
     },
     "execution_count": 14,
     "metadata": {},
     "output_type": "execute_result"
    }
   ],
   "source": [
    "P3"
   ]
  },
  {
   "cell_type": "code",
   "execution_count": 15,
   "metadata": {},
   "outputs": [
    {
     "data": {
      "text/plain": [
       "array([ 0, -6,  0])"
      ]
     },
     "execution_count": 15,
     "metadata": {},
     "output_type": "execute_result"
    }
   ],
   "source": [
    "C1"
   ]
  },
  {
   "cell_type": "code",
   "execution_count": 16,
   "metadata": {},
   "outputs": [
    {
     "data": {
      "text/plain": [
       "array([-5.19615242,  3.        ,  0.        ])"
      ]
     },
     "execution_count": 16,
     "metadata": {},
     "output_type": "execute_result"
    }
   ],
   "source": [
    "C2"
   ]
  },
  {
   "cell_type": "code",
   "execution_count": 17,
   "metadata": {},
   "outputs": [
    {
     "data": {
      "text/plain": [
       "array([5.19615242, 3.        , 0.        ])"
      ]
     },
     "execution_count": 17,
     "metadata": {},
     "output_type": "execute_result"
    }
   ],
   "source": [
    "C3"
   ]
  },
  {
   "cell_type": "code",
   "execution_count": null,
   "metadata": {},
   "outputs": [],
   "source": []
  }
 ],
 "metadata": {
  "kernelspec": {
   "display_name": "Python 3",
   "language": "python",
   "name": "python3"
  },
  "language_info": {
   "codemirror_mode": {
    "name": "ipython",
    "version": 3
   },
   "file_extension": ".py",
   "mimetype": "text/x-python",
   "name": "python",
   "nbconvert_exporter": "python",
   "pygments_lexer": "ipython3",
   "version": "3.8.10"
  }
 },
 "nbformat": 4,
 "nbformat_minor": 4
}
